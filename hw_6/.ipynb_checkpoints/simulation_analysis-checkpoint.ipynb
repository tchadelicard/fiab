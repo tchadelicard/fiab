{
 "cells": [
  {
   "cell_type": "markdown",
   "metadata": {},
   "source": [
    "# IMT TAF Fiabilité : Test de charge\n",
    "\n",
    "- **durée** 30s"
   ]
  },
  {
   "cell_type": "code",
   "execution_count": 1,
   "metadata": {},
   "outputs": [],
   "source": [
    "%matplotlib inline\n",
    "%config InlineBackend.rc = {'font.size': 10, 'figure.figsize': (16.0, 5.0),'figure.dpi': 75}\n",
    "import pandas as pd\n",
    "from matplotlib import pyplot as plt #%matplotlib notebook"
   ]
  },
  {
   "cell_type": "code",
   "execution_count": 2,
   "metadata": {},
   "outputs": [
    {
     "name": "stderr",
     "output_type": "stream",
     "text": [
      "/tmp/ipykernel_28395/1237947535.py:1: FutureWarning: The argument 'date_parser' is deprecated and will be removed in a future version. Please use 'date_format' instead, or read your data in as 'object' dtype and then call 'to_datetime'.\n",
      "  d = pd.read_csv('data/stats.csv', parse_dates=['ts'], date_parser=lambda x: pd.to_datetime(x, unit='ms').tz_localize('UTC').tz_convert('Europe/Paris'),\n",
      "/tmp/ipykernel_28395/1237947535.py:1: FutureWarning: The behavior of 'to_datetime' with 'unit' when parsing strings is deprecated. In a future version, strings will be parsed as datetime strings, matching the behavior without a 'unit'. To retain the old behavior, explicitly cast ints or floats to numeric type before calling to_datetime.\n",
      "  d = pd.read_csv('data/stats.csv', parse_dates=['ts'], date_parser=lambda x: pd.to_datetime(x, unit='ms').tz_localize('UTC').tz_convert('Europe/Paris'),\n"
     ]
    },
    {
     "data": {
      "text/html": [
       "<div>\n",
       "<style scoped>\n",
       "    .dataframe tbody tr th:only-of-type {\n",
       "        vertical-align: middle;\n",
       "    }\n",
       "\n",
       "    .dataframe tbody tr th {\n",
       "        vertical-align: top;\n",
       "    }\n",
       "\n",
       "    .dataframe thead th {\n",
       "        text-align: right;\n",
       "    }\n",
       "</style>\n",
       "<table border=\"1\" class=\"dataframe\">\n",
       "  <thead>\n",
       "    <tr style=\"text-align: right;\">\n",
       "      <th></th>\n",
       "      <th>id</th>\n",
       "      <th>ts</th>\n",
       "      <th>path</th>\n",
       "      <th>latency</th>\n",
       "      <th>res</th>\n",
       "      <th>res_desc</th>\n",
       "      <th>grouppath</th>\n",
       "    </tr>\n",
       "  </thead>\n",
       "  <tbody>\n",
       "    <tr>\n",
       "      <th>0</th>\n",
       "      <td>0</td>\n",
       "      <td>2024-10-08 11:29:08.352000+02:00</td>\n",
       "      <td>/aggregate-stats/242</td>\n",
       "      <td>275</td>\n",
       "      <td>ok</td>\n",
       "      <td>200</td>\n",
       "      <td>/aggregate-stats</td>\n",
       "    </tr>\n",
       "    <tr>\n",
       "      <th>1</th>\n",
       "      <td>1</td>\n",
       "      <td>2024-10-08 11:29:08.352000+02:00</td>\n",
       "      <td>/aggregate-stats/19</td>\n",
       "      <td>1</td>\n",
       "      <td>ok</td>\n",
       "      <td>200</td>\n",
       "      <td>/aggregate-stats</td>\n",
       "    </tr>\n",
       "    <tr>\n",
       "      <th>2</th>\n",
       "      <td>2</td>\n",
       "      <td>2024-10-08 11:29:08.352000+02:00</td>\n",
       "      <td>/aggregate-stats/680</td>\n",
       "      <td>2</td>\n",
       "      <td>ok</td>\n",
       "      <td>200</td>\n",
       "      <td>/aggregate-stats</td>\n",
       "    </tr>\n",
       "    <tr>\n",
       "      <th>3</th>\n",
       "      <td>3</td>\n",
       "      <td>2024-10-08 11:29:08.352000+02:00</td>\n",
       "      <td>/aggregate-stats/48</td>\n",
       "      <td>2</td>\n",
       "      <td>ok</td>\n",
       "      <td>200</td>\n",
       "      <td>/aggregate-stats</td>\n",
       "    </tr>\n",
       "    <tr>\n",
       "      <th>4</th>\n",
       "      <td>4</td>\n",
       "      <td>2024-10-08 11:29:08.352000+02:00</td>\n",
       "      <td>/aggregate-stats/285</td>\n",
       "      <td>2</td>\n",
       "      <td>ok</td>\n",
       "      <td>200</td>\n",
       "      <td>/aggregate-stats</td>\n",
       "    </tr>\n",
       "  </tbody>\n",
       "</table>\n",
       "</div>"
      ],
      "text/plain": [
       "   id                               ts                  path  latency res  \\\n",
       "0   0 2024-10-08 11:29:08.352000+02:00  /aggregate-stats/242      275  ok   \n",
       "1   1 2024-10-08 11:29:08.352000+02:00   /aggregate-stats/19        1  ok   \n",
       "2   2 2024-10-08 11:29:08.352000+02:00  /aggregate-stats/680        2  ok   \n",
       "3   3 2024-10-08 11:29:08.352000+02:00   /aggregate-stats/48        2  ok   \n",
       "4   4 2024-10-08 11:29:08.352000+02:00  /aggregate-stats/285        2  ok   \n",
       "\n",
       "   res_desc         grouppath  \n",
       "0       200  /aggregate-stats  \n",
       "1       200  /aggregate-stats  \n",
       "2       200  /aggregate-stats  \n",
       "3       200  /aggregate-stats  \n",
       "4       200  /aggregate-stats  "
      ]
     },
     "execution_count": 2,
     "metadata": {},
     "output_type": "execute_result"
    }
   ],
   "source": [
    "d = pd.read_csv('data/stats.csv', parse_dates=['ts'], date_parser=lambda x: pd.to_datetime(x, unit='ms').tz_localize('UTC').tz_convert('Europe/Paris'),\n",
    "                                names=['id','ts','path','latency','res','res_desc'])\n",
    "d[\"grouppath\"] = d.apply(lambda x: \"/\".join(x['path'].split(\"/\")[:2]), axis=1)\n",
    "d.head()"
   ]
  },
  {
   "cell_type": "markdown",
   "metadata": {},
   "source": [
    "## Indicateurs - résumé"
   ]
  },
  {
   "cell_type": "code",
   "execution_count": 3,
   "metadata": {},
   "outputs": [
    {
     "data": {
      "text/html": [
       "<div>\n",
       "<style scoped>\n",
       "    .dataframe tbody tr th:only-of-type {\n",
       "        vertical-align: middle;\n",
       "    }\n",
       "\n",
       "    .dataframe tbody tr th {\n",
       "        vertical-align: top;\n",
       "    }\n",
       "\n",
       "    .dataframe thead th {\n",
       "        text-align: right;\n",
       "    }\n",
       "</style>\n",
       "<table border=\"1\" class=\"dataframe\">\n",
       "  <thead>\n",
       "    <tr style=\"text-align: right;\">\n",
       "      <th></th>\n",
       "      <th>id</th>\n",
       "      <th>latency</th>\n",
       "      <th>res_desc</th>\n",
       "    </tr>\n",
       "  </thead>\n",
       "  <tbody>\n",
       "    <tr>\n",
       "      <th>count</th>\n",
       "      <td>3.600000e+01</td>\n",
       "      <td>36.000000</td>\n",
       "      <td>36.000000</td>\n",
       "    </tr>\n",
       "    <tr>\n",
       "      <th>mean</th>\n",
       "      <td>1.500000e+08</td>\n",
       "      <td>8958.111111</td>\n",
       "      <td>205.666667</td>\n",
       "    </tr>\n",
       "    <tr>\n",
       "      <th>std</th>\n",
       "      <td>3.401680e+08</td>\n",
       "      <td>27013.043744</td>\n",
       "      <td>34.000000</td>\n",
       "    </tr>\n",
       "    <tr>\n",
       "      <th>min</th>\n",
       "      <td>0.000000e+00</td>\n",
       "      <td>1.000000</td>\n",
       "      <td>200.000000</td>\n",
       "    </tr>\n",
       "    <tr>\n",
       "      <th>25%</th>\n",
       "      <td>8.750000e+00</td>\n",
       "      <td>3.000000</td>\n",
       "      <td>200.000000</td>\n",
       "    </tr>\n",
       "    <tr>\n",
       "      <th>50%</th>\n",
       "      <td>1.750000e+01</td>\n",
       "      <td>2414.500000</td>\n",
       "      <td>200.000000</td>\n",
       "    </tr>\n",
       "    <tr>\n",
       "      <th>75%</th>\n",
       "      <td>2.625000e+01</td>\n",
       "      <td>4896.750000</td>\n",
       "      <td>200.000000</td>\n",
       "    </tr>\n",
       "    <tr>\n",
       "      <th>max</th>\n",
       "      <td>9.000000e+08</td>\n",
       "      <td>118646.000000</td>\n",
       "      <td>404.000000</td>\n",
       "    </tr>\n",
       "  </tbody>\n",
       "</table>\n",
       "</div>"
      ],
      "text/plain": [
       "                 id        latency    res_desc\n",
       "count  3.600000e+01      36.000000   36.000000\n",
       "mean   1.500000e+08    8958.111111  205.666667\n",
       "std    3.401680e+08   27013.043744   34.000000\n",
       "min    0.000000e+00       1.000000  200.000000\n",
       "25%    8.750000e+00       3.000000  200.000000\n",
       "50%    1.750000e+01    2414.500000  200.000000\n",
       "75%    2.625000e+01    4896.750000  200.000000\n",
       "max    9.000000e+08  118646.000000  404.000000"
      ]
     },
     "execution_count": 3,
     "metadata": {},
     "output_type": "execute_result"
    }
   ],
   "source": [
    "d.describe()"
   ]
  },
  {
   "cell_type": "code",
   "execution_count": 4,
   "metadata": {},
   "outputs": [
    {
     "data": {
      "image/png": "[encoded data removed]",
      "text/plain": [
       "<Figure size 640x480 with 1 Axes>"
      ]
     },
     "metadata": {},
     "output_type": "display_data"
    }
   ],
   "source": [
    "def histogroup(k):\n",
    "    lat = d['latency'].loc[k]; ok = d['res'].loc[k]\n",
    "    return \"failed\" if ok == \"ko\" else \"t<20ms\" if lat < 20 else \"20ms<t<40ms\" if lat < 40 else \"40ms<t<200ms\" if lat < 200 else \"t>200ms\"\n",
    "histo = d.groupby(histogroup)['id'].count()\n",
    "ordered_labels = [\"failed\", \"t<20ms\", \"20ms<t<40ms\", \"40ms<t<200ms\", \"t>200ms\"]; color_dict = {\"t<20ms\": '#4eac5b', \"20ms<t<40ms\": '#608ece', \"40ms<t<200ms\" : '#fffc54', \"t>200ms\" : '#ef7b36', \"failed\": 'r'}\n",
    "histo = histo.reindex(pd.Categorical(histo.index,categories=ordered_labels,ordered=True)).sort_index()\n",
    "colors = [color_dict[l] for l in histo.index]\n",
    "histo.plot.bar(color=colors);"
   ]
  },
  {
   "cell_type": "code",
   "execution_count": 5,
   "metadata": {},
   "outputs": [
    {
     "data": {
      "image/png": "[encoded data removed]",
      "text/plain": [
       "<Figure size 500x500 with 1 Axes>"
      ]
     },
     "metadata": {},
     "output_type": "display_data"
    }
   ],
   "source": [
    "histo.plot.pie(colors=colors,figsize=(5,5));"
   ]
  },
  {
   "cell_type": "code",
   "execution_count": 6,
   "metadata": {},
   "outputs": [
    {
     "data": {
      "text/html": [
       "<div>\n",
       "<style scoped>\n",
       "    .dataframe tbody tr th:only-of-type {\n",
       "        vertical-align: middle;\n",
       "    }\n",
       "\n",
       "    .dataframe tbody tr th {\n",
       "        vertical-align: top;\n",
       "    }\n",
       "\n",
       "    .dataframe thead tr th {\n",
       "        text-align: left;\n",
       "    }\n",
       "\n",
       "    .dataframe thead tr:last-of-type th {\n",
       "        text-align: right;\n",
       "    }\n",
       "</style>\n",
       "<table border=\"1\" class=\"dataframe\">\n",
       "  <thead>\n",
       "    <tr>\n",
       "      <th></th>\n",
       "      <th colspan=\"4\" halign=\"left\">res</th>\n",
       "      <th colspan=\"4\" halign=\"left\">latency</th>\n",
       "      <th>ts</th>\n",
       "    </tr>\n",
       "    <tr>\n",
       "      <th></th>\n",
       "      <th>count</th>\n",
       "      <th>okcount</th>\n",
       "      <th>kocount</th>\n",
       "      <th>koper</th>\n",
       "      <th>mean</th>\n",
       "      <th>std</th>\n",
       "      <th>min</th>\n",
       "      <th>max</th>\n",
       "      <th>reqpersec</th>\n",
       "    </tr>\n",
       "    <tr>\n",
       "      <th>grouppath</th>\n",
       "      <th></th>\n",
       "      <th></th>\n",
       "      <th></th>\n",
       "      <th></th>\n",
       "      <th></th>\n",
       "      <th></th>\n",
       "      <th></th>\n",
       "      <th></th>\n",
       "      <th></th>\n",
       "    </tr>\n",
       "  </thead>\n",
       "  <tbody>\n",
       "    <tr>\n",
       "      <th>/aggregate-stats</th>\n",
       "      <td>22</td>\n",
       "      <td>22</td>\n",
       "      <td>0</td>\n",
       "      <td>0.000000</td>\n",
       "      <td>11537.045455</td>\n",
       "      <td>34538.908519</td>\n",
       "      <td>1</td>\n",
       "      <td>118646</td>\n",
       "      <td>11.0</td>\n",
       "    </tr>\n",
       "    <tr>\n",
       "      <th>/order</th>\n",
       "      <td>14</td>\n",
       "      <td>13</td>\n",
       "      <td>1</td>\n",
       "      <td>7.142857</td>\n",
       "      <td>4905.500000</td>\n",
       "      <td>2931.885053</td>\n",
       "      <td>1</td>\n",
       "      <td>9970</td>\n",
       "      <td>7.0</td>\n",
       "    </tr>\n",
       "  </tbody>\n",
       "</table>\n",
       "</div>"
      ],
      "text/plain": [
       "                   res                                 latency                \\\n",
       "                 count okcount kocount     koper          mean           std   \n",
       "grouppath                                                                      \n",
       "/aggregate-stats    22      22       0  0.000000  11537.045455  34538.908519   \n",
       "/order              14      13       1  7.142857   4905.500000   2931.885053   \n",
       "\n",
       "                                    ts  \n",
       "                 min     max reqpersec  \n",
       "grouppath                               \n",
       "/aggregate-stats   1  118646      11.0  \n",
       "/order             1    9970       7.0  "
      ]
     },
     "execution_count": 6,
     "metadata": {},
     "output_type": "execute_result"
    }
   ],
   "source": [
    "def okcount(x):\n",
    "    return x.value_counts().get(\"ok\", 0)\n",
    "def kocount(x):\n",
    "    return x.value_counts().get(\"ko\", 0)\n",
    "def koper(x):\n",
    "    return 100*(x.value_counts().get(\"ko\", 0) / x.count())\n",
    "def pct95th(x):\n",
    "    print(x.values)\n",
    "    print(x.count())\n",
    "    print(x.quantile([1]))\n",
    "    return x.quantile(0.95)\n",
    "def pct99th(x):\n",
    "    return x.quantile(0.99)\n",
    "def reqpersec(x):\n",
    "    return x.groupby(x.apply(lambda y: y.floor('s'))).count().mean()\n",
    "\n",
    "#d.groupby([\"grouppath\"])\n",
    "d.groupby([\"grouppath\"]).agg({'res': ['count',okcount,kocount,koper],'latency': ['mean','std','min','max'],'ts': [reqpersec]})\n",
    "# d.groupby([\"grouppath\"]).agg({'res': [okcount]})\n"
   ]
  },
  {
   "cell_type": "markdown",
   "metadata": {},
   "source": [
    "## Temps de réponse (ms)"
   ]
  },
  {
   "cell_type": "code",
   "execution_count": 7,
   "metadata": {
    "scrolled": false
   },
   "outputs": [
    {
     "data": {
      "image/png": "[encoded data removed]",
      "text/plain": [
       "<Figure size 640x480 with 1 Axes>"
      ]
     },
     "metadata": {},
     "output_type": "display_data"
    }
   ],
   "source": [
    "d.groupby(d['grouppath'])['latency'].plot();"
   ]
  },
  {
   "cell_type": "code",
   "execution_count": 8,
   "metadata": {
    "scrolled": false
   },
   "outputs": [
    {
     "data": {
      "image/png": "[encoded data removed]",
      "text/plain": [
       "<Figure size 640x480 with 1 Axes>"
      ]
     },
     "metadata": {},
     "output_type": "display_data"
    }
   ],
   "source": [
    "d.boxplot(column=['latency'], by='grouppath');"
   ]
  },
  {
   "cell_type": "code",
   "execution_count": null,
   "metadata": {},
   "outputs": [],
   "source": []
  },
  {
   "cell_type": "code",
   "execution_count": null,
   "metadata": {},
   "outputs": [],
   "source": []
  }
 ],
 "metadata": {
  "interpreter": {
   "hash": "aee8b7b246df8f9039afb4144a1f6fd8d2ca17a180786b69acc140d282b71a49"
  },
  "kernelspec": {
   "display_name": "Python 3 (ipykernel)",
   "language": "python",
   "name": "python3"
  },
  "language_info": {
   "codemirror_mode": {
    "name": "ipython",
    "version": 3
   },
   "file_extension": ".py",
   "mimetype": "text/x-python",
   "name": "python",
   "nbconvert_exporter": "python",
   "pygments_lexer": "ipython3",
   "version": "3.12.3"
  }
 },
 "nbformat": 4,
 "nbformat_minor": 2
}
