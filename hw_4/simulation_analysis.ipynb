{
 "cells": [
  {
   "cell_type": "markdown",
   "metadata": {},
   "source": [
    "# IMT TAF Fiabilité : Test de charge\n",
    "\n",
    "- **durée** 30s"
   ]
  },
  {
   "cell_type": "code",
   "execution_count": 10,
   "metadata": {},
   "outputs": [],
   "source": [
    "%matplotlib inline\n",
    "%config InlineBackend.rc = {'font.size': 10, 'figure.figsize': (16.0, 5.0),'figure.dpi': 75}\n",
    "import pandas as pd\n",
    "from matplotlib import pyplot as plt #%matplotlib notebook"
   ]
  },
  {
   "cell_type": "code",
   "execution_count": 20,
   "metadata": {},
   "outputs": [
    {
     "name": "stderr",
     "output_type": "stream",
     "text": [
      "/tmp/ipykernel_87025/785509217.py:1: FutureWarning: The argument 'date_parser' is deprecated and will be removed in a future version. Please use 'date_format' instead, or read your data in as 'object' dtype and then call 'to_datetime'.\n",
      "  d = pd.read_csv('data/stats.csv', parse_dates=['ts'], date_parser=lambda x: pd.to_datetime(x, unit='ms').tz_localize('UTC').tz_convert('Europe/Paris'),\n",
      "/tmp/ipykernel_87025/785509217.py:1: FutureWarning: The behavior of 'to_datetime' with 'unit' when parsing strings is deprecated. In a future version, strings will be parsed as datetime strings, matching the behavior without a 'unit'. To retain the old behavior, explicitly cast ints or floats to numeric type before calling to_datetime.\n",
      "  d = pd.read_csv('data/stats.csv', parse_dates=['ts'], date_parser=lambda x: pd.to_datetime(x, unit='ms').tz_localize('UTC').tz_convert('Europe/Paris'),\n"
     ]
    },
    {
     "data": {
      "text/html": [
       "<div>\n",
       "<style scoped>\n",
       "    .dataframe tbody tr th:only-of-type {\n",
       "        vertical-align: middle;\n",
       "    }\n",
       "\n",
       "    .dataframe tbody tr th {\n",
       "        vertical-align: top;\n",
       "    }\n",
       "\n",
       "    .dataframe thead th {\n",
       "        text-align: right;\n",
       "    }\n",
       "</style>\n",
       "<table border=\"1\" class=\"dataframe\">\n",
       "  <thead>\n",
       "    <tr style=\"text-align: right;\">\n",
       "      <th></th>\n",
       "      <th>id</th>\n",
       "      <th>ts</th>\n",
       "      <th>path</th>\n",
       "      <th>latency</th>\n",
       "      <th>res</th>\n",
       "      <th>res_desc</th>\n",
       "      <th>grouppath</th>\n",
       "    </tr>\n",
       "  </thead>\n",
       "  <tbody>\n",
       "    <tr>\n",
       "      <th>19</th>\n",
       "      <td>15</td>\n",
       "      <td>2024-10-08 15:53:28.064000+02:00</td>\n",
       "      <td>/order</td>\n",
       "      <td>4770</td>\n",
       "      <td>ok</td>\n",
       "      <td>200</td>\n",
       "      <td>/order</td>\n",
       "    </tr>\n",
       "    <tr>\n",
       "      <th>7</th>\n",
       "      <td>900000002</td>\n",
       "      <td>2024-10-08 15:51:16.992000+02:00</td>\n",
       "      <td>/order/2/payment-callback'</td>\n",
       "      <td>3970</td>\n",
       "      <td>ok</td>\n",
       "      <td>200</td>\n",
       "      <td>/order</td>\n",
       "    </tr>\n",
       "    <tr>\n",
       "      <th>6</th>\n",
       "      <td>6</td>\n",
       "      <td>2024-10-08 15:51:16.992000+02:00</td>\n",
       "      <td>/order</td>\n",
       "      <td>3762</td>\n",
       "      <td>ok</td>\n",
       "      <td>200</td>\n",
       "      <td>/order</td>\n",
       "    </tr>\n",
       "    <tr>\n",
       "      <th>2</th>\n",
       "      <td>2</td>\n",
       "      <td>2024-10-08 15:51:16.992000+02:00</td>\n",
       "      <td>/order</td>\n",
       "      <td>2822</td>\n",
       "      <td>ok</td>\n",
       "      <td>200</td>\n",
       "      <td>/order</td>\n",
       "    </tr>\n",
       "    <tr>\n",
       "      <th>16</th>\n",
       "      <td>14</td>\n",
       "      <td>2024-10-08 15:53:28.064000+02:00</td>\n",
       "      <td>/order</td>\n",
       "      <td>2758</td>\n",
       "      <td>ok</td>\n",
       "      <td>200</td>\n",
       "      <td>/order</td>\n",
       "    </tr>\n",
       "    <tr>\n",
       "      <th>20</th>\n",
       "      <td>900000014</td>\n",
       "      <td>2024-10-08 15:53:28.064000+02:00</td>\n",
       "      <td>/order/14/payment-callback'</td>\n",
       "      <td>2219</td>\n",
       "      <td>ok</td>\n",
       "      <td>200</td>\n",
       "      <td>/order</td>\n",
       "    </tr>\n",
       "    <tr>\n",
       "      <th>24</th>\n",
       "      <td>900000015</td>\n",
       "      <td>2024-10-08 15:53:28.064000+02:00</td>\n",
       "      <td>/order/15/payment-callback'</td>\n",
       "      <td>2043</td>\n",
       "      <td>ok</td>\n",
       "      <td>200</td>\n",
       "      <td>/order</td>\n",
       "    </tr>\n",
       "    <tr>\n",
       "      <th>11</th>\n",
       "      <td>900000006</td>\n",
       "      <td>2024-10-08 15:53:28.064000+02:00</td>\n",
       "      <td>/order/6/payment-callback'</td>\n",
       "      <td>1935</td>\n",
       "      <td>ok</td>\n",
       "      <td>200</td>\n",
       "      <td>/order</td>\n",
       "    </tr>\n",
       "  </tbody>\n",
       "</table>\n",
       "</div>"
      ],
      "text/plain": [
       "           id                               ts                         path  \\\n",
       "19         15 2024-10-08 15:53:28.064000+02:00                       /order   \n",
       "7   900000002 2024-10-08 15:51:16.992000+02:00   /order/2/payment-callback'   \n",
       "6           6 2024-10-08 15:51:16.992000+02:00                       /order   \n",
       "2           2 2024-10-08 15:51:16.992000+02:00                       /order   \n",
       "16         14 2024-10-08 15:53:28.064000+02:00                       /order   \n",
       "20  900000014 2024-10-08 15:53:28.064000+02:00  /order/14/payment-callback'   \n",
       "24  900000015 2024-10-08 15:53:28.064000+02:00  /order/15/payment-callback'   \n",
       "11  900000006 2024-10-08 15:53:28.064000+02:00   /order/6/payment-callback'   \n",
       "\n",
       "    latency res  res_desc grouppath  \n",
       "19     4770  ok       200    /order  \n",
       "7      3970  ok       200    /order  \n",
       "6      3762  ok       200    /order  \n",
       "2      2822  ok       200    /order  \n",
       "16     2758  ok       200    /order  \n",
       "20     2219  ok       200    /order  \n",
       "24     2043  ok       200    /order  \n",
       "11     1935  ok       200    /order  "
      ]
     },
     "execution_count": 20,
     "metadata": {},
     "output_type": "execute_result"
    }
   ],
   "source": [
    "d = pd.read_csv('data/stats.csv', parse_dates=['ts'], date_parser=lambda x: pd.to_datetime(x, unit='ms').tz_localize('UTC').tz_convert('Europe/Paris'),\n",
    "                                names=['id','ts','path','latency','res','res_desc'])\n",
    "d[\"grouppath\"] = d.apply(lambda x: \"/\".join(x['path'].split(\"/\")[:2]), axis=1)\n",
    "sorted_data = d.sample(33).sort_values(by=\"latency\" , ascending = False)\n",
    "filterd_data = sorted_data[sorted_data[\"grouppath\"] == \"/order\"]\n",
    "filterd_data"
   ]
  },
  {
   "cell_type": "markdown",
   "metadata": {},
   "source": [
    "## Indicateurs - résumé"
   ]
  },
  {
   "cell_type": "code",
   "execution_count": 12,
   "metadata": {},
   "outputs": [
    {
     "data": {
      "text/html": [
       "<div>\n",
       "<style scoped>\n",
       "    .dataframe tbody tr th:only-of-type {\n",
       "        vertical-align: middle;\n",
       "    }\n",
       "\n",
       "    .dataframe tbody tr th {\n",
       "        vertical-align: top;\n",
       "    }\n",
       "\n",
       "    .dataframe thead th {\n",
       "        text-align: right;\n",
       "    }\n",
       "</style>\n",
       "<table border=\"1\" class=\"dataframe\">\n",
       "  <thead>\n",
       "    <tr style=\"text-align: right;\">\n",
       "      <th></th>\n",
       "      <th>id</th>\n",
       "      <th>latency</th>\n",
       "      <th>res_desc</th>\n",
       "    </tr>\n",
       "  </thead>\n",
       "  <tbody>\n",
       "    <tr>\n",
       "      <th>count</th>\n",
       "      <td>3.300000e+01</td>\n",
       "      <td>33.000000</td>\n",
       "      <td>33.0</td>\n",
       "    </tr>\n",
       "    <tr>\n",
       "      <th>mean</th>\n",
       "      <td>1.090909e+08</td>\n",
       "      <td>1120.060606</td>\n",
       "      <td>200.0</td>\n",
       "    </tr>\n",
       "    <tr>\n",
       "      <th>std</th>\n",
       "      <td>2.982906e+08</td>\n",
       "      <td>1406.569340</td>\n",
       "      <td>0.0</td>\n",
       "    </tr>\n",
       "    <tr>\n",
       "      <th>min</th>\n",
       "      <td>0.000000e+00</td>\n",
       "      <td>2.000000</td>\n",
       "      <td>200.0</td>\n",
       "    </tr>\n",
       "    <tr>\n",
       "      <th>25%</th>\n",
       "      <td>8.000000e+00</td>\n",
       "      <td>6.000000</td>\n",
       "      <td>200.0</td>\n",
       "    </tr>\n",
       "    <tr>\n",
       "      <th>50%</th>\n",
       "      <td>1.600000e+01</td>\n",
       "      <td>90.000000</td>\n",
       "      <td>200.0</td>\n",
       "    </tr>\n",
       "    <tr>\n",
       "      <th>75%</th>\n",
       "      <td>2.400000e+01</td>\n",
       "      <td>1974.000000</td>\n",
       "      <td>200.0</td>\n",
       "    </tr>\n",
       "    <tr>\n",
       "      <th>max</th>\n",
       "      <td>9.000000e+08</td>\n",
       "      <td>4770.000000</td>\n",
       "      <td>200.0</td>\n",
       "    </tr>\n",
       "  </tbody>\n",
       "</table>\n",
       "</div>"
      ],
      "text/plain": [
       "                 id      latency  res_desc\n",
       "count  3.300000e+01    33.000000      33.0\n",
       "mean   1.090909e+08  1120.060606     200.0\n",
       "std    2.982906e+08  1406.569340       0.0\n",
       "min    0.000000e+00     2.000000     200.0\n",
       "25%    8.000000e+00     6.000000     200.0\n",
       "50%    1.600000e+01    90.000000     200.0\n",
       "75%    2.400000e+01  1974.000000     200.0\n",
       "max    9.000000e+08  4770.000000     200.0"
      ]
     },
     "execution_count": 12,
     "metadata": {},
     "output_type": "execute_result"
    }
   ],
   "source": [
    "d.describe()"
   ]
  },
  {
   "cell_type": "code",
   "execution_count": 13,
   "metadata": {},
   "outputs": [
    {
     "data": {
      "image/png": "[encoded data removed]",
      "text/plain": [
       "<Figure size 1200x375 with 1 Axes>"
      ]
     },
     "metadata": {},
     "output_type": "display_data"
    }
   ],
   "source": [
    "def histogroup(k):\n",
    "    lat = d['latency'].loc[k]; ok = d['res'].loc[k]\n",
    "    return \"failed\" if ok == \"ko\" else \"t<20ms\" if lat < 20 else \"20ms<t<40ms\" if lat < 40 else \"40ms<t<200ms\" if lat < 200 else \"t>200ms\"\n",
    "histo = d.groupby(histogroup)['id'].count()\n",
    "ordered_labels = [\"failed\", \"t<20ms\", \"20ms<t<40ms\", \"40ms<t<200ms\", \"t>200ms\"]; color_dict = {\"t<20ms\": '#4eac5b', \"20ms<t<40ms\": '#608ece', \"40ms<t<200ms\" : '#fffc54', \"t>200ms\" : '#ef7b36', \"failed\": 'r'}\n",
    "histo = histo.reindex(pd.Categorical(histo.index,categories=ordered_labels,ordered=True)).sort_index()\n",
    "colors = [color_dict[l] for l in histo.index]\n",
    "histo.plot.bar(color=colors);"
   ]
  },
  {
   "cell_type": "code",
   "execution_count": 14,
   "metadata": {},
   "outputs": [
    {
     "data": {
      "image/png": "[encoded data removed]",
      "text/plain": [
       "<Figure size 375x375 with 1 Axes>"
      ]
     },
     "metadata": {},
     "output_type": "display_data"
    }
   ],
   "source": [
    "histo.plot.pie(colors=colors,figsize=(5,5));"
   ]
  },
  {
   "cell_type": "code",
   "execution_count": 15,
   "metadata": {},
   "outputs": [
    {
     "data": {
      "text/html": [
       "<div>\n",
       "<style scoped>\n",
       "    .dataframe tbody tr th:only-of-type {\n",
       "        vertical-align: middle;\n",
       "    }\n",
       "\n",
       "    .dataframe tbody tr th {\n",
       "        vertical-align: top;\n",
       "    }\n",
       "\n",
       "    .dataframe thead tr th {\n",
       "        text-align: left;\n",
       "    }\n",
       "\n",
       "    .dataframe thead tr:last-of-type th {\n",
       "        text-align: right;\n",
       "    }\n",
       "</style>\n",
       "<table border=\"1\" class=\"dataframe\">\n",
       "  <thead>\n",
       "    <tr>\n",
       "      <th></th>\n",
       "      <th colspan=\"4\" halign=\"left\">res</th>\n",
       "      <th colspan=\"4\" halign=\"left\">latency</th>\n",
       "      <th>ts</th>\n",
       "    </tr>\n",
       "    <tr>\n",
       "      <th></th>\n",
       "      <th>count</th>\n",
       "      <th>okcount</th>\n",
       "      <th>kocount</th>\n",
       "      <th>koper</th>\n",
       "      <th>mean</th>\n",
       "      <th>std</th>\n",
       "      <th>min</th>\n",
       "      <th>max</th>\n",
       "      <th>reqpersec</th>\n",
       "    </tr>\n",
       "    <tr>\n",
       "      <th>grouppath</th>\n",
       "      <th></th>\n",
       "      <th></th>\n",
       "      <th></th>\n",
       "      <th></th>\n",
       "      <th></th>\n",
       "      <th></th>\n",
       "      <th></th>\n",
       "      <th></th>\n",
       "      <th></th>\n",
       "    </tr>\n",
       "  </thead>\n",
       "  <tbody>\n",
       "    <tr>\n",
       "      <th>/aggregate-stats</th>\n",
       "      <td>25</td>\n",
       "      <td>25</td>\n",
       "      <td>0</td>\n",
       "      <td>0.0</td>\n",
       "      <td>507.320</td>\n",
       "      <td>846.478180</td>\n",
       "      <td>2</td>\n",
       "      <td>2974</td>\n",
       "      <td>12.5</td>\n",
       "    </tr>\n",
       "    <tr>\n",
       "      <th>/order</th>\n",
       "      <td>8</td>\n",
       "      <td>8</td>\n",
       "      <td>0</td>\n",
       "      <td>0.0</td>\n",
       "      <td>3034.875</td>\n",
       "      <td>1027.826894</td>\n",
       "      <td>1935</td>\n",
       "      <td>4770</td>\n",
       "      <td>4.0</td>\n",
       "    </tr>\n",
       "  </tbody>\n",
       "</table>\n",
       "</div>"
      ],
      "text/plain": [
       "                   res                         latency                     \\\n",
       "                 count okcount kocount koper      mean          std   min   \n",
       "grouppath                                                                   \n",
       "/aggregate-stats    25      25       0   0.0   507.320   846.478180     2   \n",
       "/order               8       8       0   0.0  3034.875  1027.826894  1935   \n",
       "\n",
       "                              ts  \n",
       "                   max reqpersec  \n",
       "grouppath                         \n",
       "/aggregate-stats  2974      12.5  \n",
       "/order            4770       4.0  "
      ]
     },
     "execution_count": 15,
     "metadata": {},
     "output_type": "execute_result"
    }
   ],
   "source": [
    "def okcount(x):\n",
    "    return x.value_counts().get(\"ok\", 0)\n",
    "def kocount(x):\n",
    "    return x.value_counts().get(\"ko\", 0)\n",
    "def koper(x):\n",
    "    return 100*(x.value_counts().get(\"ko\", 0) / x.count())\n",
    "def pct95th(x):\n",
    "    print(x.values)\n",
    "    print(x.count())\n",
    "    print(x.quantile([1]))\n",
    "    return x.quantile(0.95)\n",
    "def pct99th(x):\n",
    "    return x.quantile(0.99)\n",
    "def reqpersec(x):\n",
    "    return x.groupby(x.apply(lambda y: y.floor('s'))).count().mean()\n",
    "\n",
    "#d.groupby([\"grouppath\"])\n",
    "d.groupby([\"grouppath\"]).agg({'res': ['count',okcount,kocount,koper],'latency': ['mean','std','min','max'],'ts': [reqpersec]})\n",
    "# d.groupby([\"grouppath\"]).agg({'res': [okcount]})\n"
   ]
  },
  {
   "cell_type": "markdown",
   "metadata": {},
   "source": [
    "## Temps de réponse (ms)"
   ]
  },
  {
   "cell_type": "code",
   "execution_count": 16,
   "metadata": {
    "scrolled": false
   },
   "outputs": [
    {
     "data": {
      "image/png": "[encoded data removed]",
      "text/plain": [
       "<Figure size 1200x375 with 1 Axes>"
      ]
     },
     "metadata": {},
     "output_type": "display_data"
    }
   ],
   "source": [
    "d.groupby(d['grouppath'])['latency'].plot();"
   ]
  },
  {
   "cell_type": "code",
   "execution_count": 17,
   "metadata": {
    "scrolled": false
   },
   "outputs": [
    {
     "data": {
      "image/png": "[encoded data removed]",
      "text/plain": [
       "<Figure size 1200x375 with 1 Axes>"
      ]
     },
     "metadata": {},
     "output_type": "display_data"
    }
   ],
   "source": [
    "d.boxplot(column=['latency'], by='grouppath');"
   ]
  },
  {
   "cell_type": "code",
   "execution_count": null,
   "metadata": {},
   "outputs": [],
   "source": []
  },
  {
   "cell_type": "code",
   "execution_count": null,
   "metadata": {},
   "outputs": [],
   "source": []
  }
 ],
 "metadata": {
  "interpreter": {
   "hash": "aee8b7b246df8f9039afb4144a1f6fd8d2ca17a180786b69acc140d282b71a49"
  },
  "kernelspec": {
   "display_name": "Python 3 (ipykernel)",
   "language": "python",
   "name": "python3"
  },
  "language_info": {
   "codemirror_mode": {
    "name": "ipython",
    "version": 3
   },
   "file_extension": ".py",
   "mimetype": "text/x-python",
   "name": "python",
   "nbconvert_exporter": "python",
   "pygments_lexer": "ipython3",
   "version": "3.12.3"
  }
 },
 "nbformat": 4,
 "nbformat_minor": 2
}
